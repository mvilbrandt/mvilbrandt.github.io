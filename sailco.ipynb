{
 "cells": [
  {
   "cell_type": "raw",
   "metadata": {},
   "source": [
    "Sailco Corporation needs to determine how many sailboats to produce during each of the next four quarters, to meet the seasonal demands (shown below) in time at a minimal cost.\n",
    "\n",
    "First quarter: d1 = 40 sailboats;\n",
    "Second quarter: d2 = 60 sailboats;\n",
    "Third quarter: d3 = 75 sailboats;\n",
    "Fourth quarter: d4 = 25 sailboats.\n",
    "\n",
    "At the beginning of the first quarter, Sailco has an inventory of 10\n",
    "sailboats. During each quarter, Sailco can produce up to 40 sailboats with\n",
    "regular-time labor at a cost of $400 per boat. By having employees\n",
    "work overtime during a quarter, Sailco can produce additional sailboats\n",
    "with overtime labor at a cost of $450 per boat.\n",
    "\n",
    "We assume that sailboats manufactured during a quarter can be used to meet\n",
    "the demand of this quarter. At the end of each quarter, after production\n",
    "has occurred and the current quarter's demand has been satisfied, a holding\n",
    "cost of $20 per boat is incurred."
   ]
  },
  {
   "cell_type": "code",
   "execution_count": 8,
   "metadata": {},
   "outputs": [],
   "source": [
    "import sys\n",
    "import pandas as pd\n",
    "import numpy as np\n",
    "\n",
    "from gamspy import (\n",
    "    Container,Set,Alias,Parameter,Variable,Equation,Model,Problem,Sense,Options,\n",
    "    Domain,Number,Sum,Product,Smax,Smin,Ord,Card,SpecialValues,\n",
    "    ModelStatus,SolveStatus,\n",
    ")\n",
    "from gamspy.exceptions import GamspyException\n",
    "\n",
    "options = Options(variable_listing_limit=100, equation_listing_limit=0,seed=101)\n",
    "m = Container(options=options)"
   ]
  },
  {
   "cell_type": "markdown",
   "metadata": {},
   "source": [
    "# Model as inventory flow:\n",
    "\n",
    "* One node per month, with given demand at each month.\n",
    "\n",
    "* Inflow to each month node from \"regular labor\", with capacity 40 and cost 400\n",
    "\n",
    "* Inflow to each month node from a \"overtime labor\", with unlimited capacity and cost 450\n",
    "\n",
    "* month-to-month arcs representing inventory, with cost 20\n",
    "\n",
    "* balance constraints applied at month nodes."
   ]
  },
  {
   "cell_type": "code",
   "execution_count": 14,
   "metadata": {},
   "outputs": [
    {
     "name": "stdout",
     "output_type": "stream",
     "text": [
      "Objective Function Value:   78450.0 \n",
      "\n"
     ]
    },
    {
     "data": {
      "text/plain": [
       "'Inventory:'"
      ]
     },
     "metadata": {},
     "output_type": "display_data"
    },
    {
     "data": {
      "text/plain": [
       "[('month1', 10.0), ('month2', 0.0), ('month3', 0.0), ('month4', 0.0)]"
      ]
     },
     "metadata": {},
     "output_type": "display_data"
    },
    {
     "data": {
      "text/plain": [
       "'Regular:'"
      ]
     },
     "metadata": {},
     "output_type": "display_data"
    },
    {
     "data": {
      "text/plain": [
       "[('month1', 40.0), ('month2', 40.0), ('month3', 40.0), ('month4', 25.0)]"
      ]
     },
     "metadata": {},
     "output_type": "display_data"
    },
    {
     "data": {
      "text/plain": [
       "'Overtime:'"
      ]
     },
     "metadata": {},
     "output_type": "display_data"
    },
    {
     "data": {
      "text/plain": [
       "[('month1', 0.0), ('month2', 10.0), ('month3', 35.0), ('month4', 0.0)]"
      ]
     },
     "metadata": {},
     "output_type": "display_data"
    }
   ],
   "source": [
    "months = Set(m,'months') \n",
    "demand = Parameter(m,'demand',months,domain_forwarding=True,\n",
    "    records=[('month1', 40), ('month2', 60), ('month3', 75), ('month4', 25)])\n",
    "supply = Parameter(m,'supply',months,description='External inventory supply',\n",
    "    records=[('month1', 10)])\n",
    "\n",
    "maxRegularLabor = Parameter(m, records=40, description='maximum boats produced by regular labor per month')\n",
    "costRegular = Parameter(m, records=400, description='cost to build a boat with regular labor')\n",
    "costOvertime = Parameter(m, records=450, description='cost to build a boat with overtime labor')\n",
    "costInv = Parameter(m, records=20, description='cost to store a boat for one month')\n",
    "\n",
    "# VARIABLES #\n",
    "Regular = Variable(m,\"Regular\",\"positive\",domain=months,description=\"boats produced by regular labor\")\n",
    "Inventory = Variable(m,\"Inventory\",\"positive\",domain=months,description=\"inventory passed to next month\")\n",
    "Overtime = Variable(m,\"Overtime\",\"positive\",domain=months,description=\"boats produced by overtime labor\")\n",
    "\n",
    "# EQUATIONS #\n",
    "balance = Equation(m,'balance',domain=months,description='balance constraints at month nodes')\n",
    "# demand = inventory  in and out, plus labor s in\n",
    "balance[months]= ( Inventory[months] == Inventory[months.lag(1)] + \n",
    "    supply[months] - demand[months] + Regular[months] + Overtime[months] )\n",
    "\n",
    "sailco = Model(m,\n",
    "    name=\"sailco\",\n",
    "    equations=m.getEquations(),\n",
    "    problem=Problem.LP,\n",
    "    sense=Sense.MIN,\n",
    "    # cost = inventory costs for first 3 months, plus regular and overtime labor costs\n",
    "    objective=Sum(months, costInv*Inventory[months].where[~months.last] +\n",
    "        costRegular*Regular[months]+ costOvertime*Overtime[months]),\n",
    ")\n",
    "\n",
    "# capacity constraint on regular labor arcs\n",
    "Regular.up[months] = maxRegularLabor\n",
    "\n",
    "sailco.solve(solver='cplex',solver_options={'lpmethod': 3, 'netfind': 2, 'preind': 0, 'names': 'no'},output=None)\n",
    "\n",
    "print(\"Objective Function Value:  \", round(sailco.objective_value, 4), \"\\n\")\n",
    "display(\"Inventory:\", Inventory.toList())\n",
    "display(\"Regular:\", Regular.toList())\n",
    "display(\"Overtime:\", Overtime.toList())"
   ]
  },
  {
   "cell_type": "markdown",
   "metadata": {},
   "source": [
    "# Model as a network:\n",
    "\n",
    "* One node per month, with given demand at each month.\n",
    "\n",
    "* Inflow to each month node from a \"regular labor\" node, with capacity 40 and cost 400\n",
    "\n",
    "* Inflow to each month node from a \"overtime labor\" node, with unlimited capacity and cost 450\n",
    "\n",
    "* Additional node for sailboats needed (to split into ones produced regular and overtime)\n",
    "\n",
    "* Month-to-month arcs representing inventory, (cost 20)\n",
    "\n",
    "* Balance constraints applied at all nodes."
   ]
  },
  {
   "cell_type": "code",
   "execution_count": 19,
   "metadata": {},
   "outputs": [
    {
     "data": {
      "text/html": [
       "<div>\n",
       "<style scoped>\n",
       "    .dataframe tbody tr th:only-of-type {\n",
       "        vertical-align: middle;\n",
       "    }\n",
       "\n",
       "    .dataframe tbody tr th {\n",
       "        vertical-align: top;\n",
       "    }\n",
       "\n",
       "    .dataframe thead th {\n",
       "        text-align: right;\n",
       "    }\n",
       "</style>\n",
       "<table border=\"1\" class=\"dataframe\">\n",
       "  <thead>\n",
       "    <tr style=\"text-align: right;\">\n",
       "      <th></th>\n",
       "      <th>Regular</th>\n",
       "      <th>Overtime</th>\n",
       "      <th>m1</th>\n",
       "      <th>m2</th>\n",
       "      <th>m3</th>\n",
       "      <th>m4</th>\n",
       "    </tr>\n",
       "  </thead>\n",
       "  <tbody>\n",
       "    <tr>\n",
       "      <th>Sailboat</th>\n",
       "      <td>True</td>\n",
       "      <td>True</td>\n",
       "      <td></td>\n",
       "      <td></td>\n",
       "      <td></td>\n",
       "      <td></td>\n",
       "    </tr>\n",
       "    <tr>\n",
       "      <th>Regular</th>\n",
       "      <td></td>\n",
       "      <td></td>\n",
       "      <td>True</td>\n",
       "      <td>True</td>\n",
       "      <td>True</td>\n",
       "      <td>True</td>\n",
       "    </tr>\n",
       "    <tr>\n",
       "      <th>Overtime</th>\n",
       "      <td></td>\n",
       "      <td></td>\n",
       "      <td>True</td>\n",
       "      <td>True</td>\n",
       "      <td>True</td>\n",
       "      <td>True</td>\n",
       "    </tr>\n",
       "    <tr>\n",
       "      <th>m0</th>\n",
       "      <td></td>\n",
       "      <td></td>\n",
       "      <td>True</td>\n",
       "      <td></td>\n",
       "      <td></td>\n",
       "      <td></td>\n",
       "    </tr>\n",
       "    <tr>\n",
       "      <th>m1</th>\n",
       "      <td></td>\n",
       "      <td></td>\n",
       "      <td></td>\n",
       "      <td>True</td>\n",
       "      <td></td>\n",
       "      <td></td>\n",
       "    </tr>\n",
       "    <tr>\n",
       "      <th>m2</th>\n",
       "      <td></td>\n",
       "      <td></td>\n",
       "      <td></td>\n",
       "      <td></td>\n",
       "      <td>True</td>\n",
       "      <td></td>\n",
       "    </tr>\n",
       "    <tr>\n",
       "      <th>m3</th>\n",
       "      <td></td>\n",
       "      <td></td>\n",
       "      <td></td>\n",
       "      <td></td>\n",
       "      <td></td>\n",
       "      <td>True</td>\n",
       "    </tr>\n",
       "  </tbody>\n",
       "</table>\n",
       "</div>"
      ],
      "text/plain": [
       "         Regular Overtime    m1    m2    m3    m4\n",
       "Sailboat    True     True                        \n",
       "Regular                    True  True  True  True\n",
       "Overtime                   True  True  True  True\n",
       "m0                         True                  \n",
       "m1                               True            \n",
       "m2                                     True      \n",
       "m3                                           True"
      ]
     },
     "metadata": {},
     "output_type": "display_data"
    },
    {
     "data": {
      "text/plain": [
       "[('Sailboat', 190.0),\n",
       " ('m0', 10.0),\n",
       " ('m1', -40.0),\n",
       " ('m2', -60.0),\n",
       " ('m3', -75.0),\n",
       " ('m4', -25.0)]"
      ]
     },
     "metadata": {},
     "output_type": "display_data"
    },
    {
     "name": "stdout",
     "output_type": "stream",
     "text": [
      "Objective Function Value:   78450.0 \n",
      "\n",
      "f:\n"
     ]
    },
    {
     "data": {
      "text/html": [
       "<div>\n",
       "<style scoped>\n",
       "    .dataframe tbody tr th:only-of-type {\n",
       "        vertical-align: middle;\n",
       "    }\n",
       "\n",
       "    .dataframe tbody tr th {\n",
       "        vertical-align: top;\n",
       "    }\n",
       "\n",
       "    .dataframe thead th {\n",
       "        text-align: right;\n",
       "    }\n",
       "</style>\n",
       "<table border=\"1\" class=\"dataframe\">\n",
       "  <thead>\n",
       "    <tr style=\"text-align: right;\">\n",
       "      <th></th>\n",
       "      <th>Regular</th>\n",
       "      <th>Overtime</th>\n",
       "      <th>m1</th>\n",
       "      <th>m2</th>\n",
       "      <th>m3</th>\n",
       "      <th>m4</th>\n",
       "    </tr>\n",
       "  </thead>\n",
       "  <tbody>\n",
       "    <tr>\n",
       "      <th>Sailboat</th>\n",
       "      <td>145.0</td>\n",
       "      <td>45.0</td>\n",
       "      <td>0.0</td>\n",
       "      <td>0.0</td>\n",
       "      <td>0.0</td>\n",
       "      <td>0.0</td>\n",
       "    </tr>\n",
       "    <tr>\n",
       "      <th>Regular</th>\n",
       "      <td>0.0</td>\n",
       "      <td>0.0</td>\n",
       "      <td>40.0</td>\n",
       "      <td>40.0</td>\n",
       "      <td>40.0</td>\n",
       "      <td>25.0</td>\n",
       "    </tr>\n",
       "    <tr>\n",
       "      <th>Overtime</th>\n",
       "      <td>0.0</td>\n",
       "      <td>0.0</td>\n",
       "      <td>0.0</td>\n",
       "      <td>10.0</td>\n",
       "      <td>35.0</td>\n",
       "      <td>0.0</td>\n",
       "    </tr>\n",
       "    <tr>\n",
       "      <th>m0</th>\n",
       "      <td>0.0</td>\n",
       "      <td>0.0</td>\n",
       "      <td>10.0</td>\n",
       "      <td>0.0</td>\n",
       "      <td>0.0</td>\n",
       "      <td>0.0</td>\n",
       "    </tr>\n",
       "    <tr>\n",
       "      <th>m1</th>\n",
       "      <td>0.0</td>\n",
       "      <td>0.0</td>\n",
       "      <td>0.0</td>\n",
       "      <td>10.0</td>\n",
       "      <td>0.0</td>\n",
       "      <td>0.0</td>\n",
       "    </tr>\n",
       "    <tr>\n",
       "      <th>m2</th>\n",
       "      <td>0.0</td>\n",
       "      <td>0.0</td>\n",
       "      <td>0.0</td>\n",
       "      <td>0.0</td>\n",
       "      <td>0.0</td>\n",
       "      <td>0.0</td>\n",
       "    </tr>\n",
       "    <tr>\n",
       "      <th>m3</th>\n",
       "      <td>0.0</td>\n",
       "      <td>0.0</td>\n",
       "      <td>0.0</td>\n",
       "      <td>0.0</td>\n",
       "      <td>0.0</td>\n",
       "      <td>0.0</td>\n",
       "    </tr>\n",
       "  </tbody>\n",
       "</table>\n",
       "</div>"
      ],
      "text/plain": [
       "          Regular  Overtime    m1    m2    m3    m4\n",
       "Sailboat    145.0      45.0   0.0   0.0   0.0   0.0\n",
       "Regular       0.0       0.0  40.0  40.0  40.0  25.0\n",
       "Overtime      0.0       0.0   0.0  10.0  35.0   0.0\n",
       "m0            0.0       0.0  10.0   0.0   0.0   0.0\n",
       "m1            0.0       0.0   0.0  10.0   0.0   0.0\n",
       "m2            0.0       0.0   0.0   0.0   0.0   0.0\n",
       "m3            0.0       0.0   0.0   0.0   0.0   0.0"
      ]
     },
     "metadata": {},
     "output_type": "display_data"
    }
   ],
   "source": [
    "# Now build the network (independently)\n",
    "node = Set(m,'node',records=['Sailboat', 'Regular', 'Overtime'] + [f\"m{i}\" for i in range(5)])\n",
    "BuildType = Set(m,'BuildType',domain=node,records=['Regular', 'Overtime'])\n",
    "T = Set(m,'T',domain=node,records=[f\"m{i}\" for i in range(5)])\n",
    "\n",
    "arc = Set(m,'arc',domain=[node,node]) \n",
    "arc['Sailboat', BuildType] = True #Connects Sailboat node to the buildtype nodes (regular and overtime)\n",
    "arc[BuildType, T].where[~T.first] = True\n",
    "arc[T,T.lead(1)] = True\n",
    "\n",
    "display(arc.pivot(fill_value=''))\n",
    "\n",
    "i = Alias(m,'i',node)\n",
    "j = Alias(m,'j',node)\n",
    "k = Alias(m,'k',node)\n",
    "\n",
    "b = Parameter(m,'b',domain=node)\n",
    "b[T].where[T.first] = supply['month1']\n",
    "# transform data from one set into an other (months into T)\n",
    "b[T].where[~T.first] = -Sum(months.where[T.ord-1==months.ord], demand[months])\n",
    "# Need to figure out the b for the master supply node\n",
    "b['Sailboat'] = -Sum(T, b[T]) #Generate the 190 boats required because 10 are already in supply\n",
    "display(b.toList())\n",
    "\n",
    "c = Parameter(m,'c',domain=[node,node])\n",
    "c['Regular',T].where[~T.first] = costRegular\n",
    "c['Overtime',T].where[~T.first] = costOvertime\n",
    "c[T,T.lead(1)].where[~T.first] = costInv\n",
    "\n",
    "u = Parameter(m,'u',domain=[node,node])\n",
    "u[arc] = SpecialValues.POSINF \n",
    "u['Regular',T].where[~T.first] = maxRegularLabor\n",
    "\n",
    "# Now it is just a regular MCNF (using A,b,c,u)\n",
    "\n",
    "# VARIABLES #\n",
    "x = Variable(m,\"x\",\"positive\",domain=[node,node],description=\"flow\")\n",
    "\n",
    "# EQUATIONS #\n",
    "# ensure flow out - flow in = b, use dynamic set \n",
    "f_balance = Equation(m,'f_balance',domain=node)\n",
    "f_balance[i]= Sum(arc[i,k], x[i,k]) - Sum(arc[j,i], x[j,i]) == b[i]\n",
    "\n",
    "mcf = Model(m,\n",
    "    name=\"mcf\",\n",
    "    equations=[f_balance],\n",
    "    problem=Problem.LP,\n",
    "    sense=Sense.MIN,\n",
    "    objective=Sum(arc[i,j], c[i,j]*x[i,j]),\n",
    ")\n",
    "\n",
    "x.up[arc] = u[arc] \n",
    "\n",
    "mcf.solve(solver='cplex',solver_options={'lpmethod': 3, 'netfind': 2, 'preind': 0, 'names': 'no'},output=None)\n",
    "\n",
    "print(\"Objective Function Value:  \", round(mcf.objective_value, 4), \"\\n\\nf:\")\n",
    "display(x.pivot())"
   ]
  },
  {
   "cell_type": "markdown",
   "metadata": {},
   "source": [
    "# Update initial stock and rerun"
   ]
  },
  {
   "cell_type": "code",
   "execution_count": 23,
   "metadata": {
    "scrolled": true
   },
   "outputs": [
    {
     "name": "stdout",
     "output_type": "stream",
     "text": [
      "Objective Function Value:   70050.0 \n",
      "\n",
      "f:\n"
     ]
    },
    {
     "data": {
      "text/html": [
       "<div>\n",
       "<style scoped>\n",
       "    .dataframe tbody tr th:only-of-type {\n",
       "        vertical-align: middle;\n",
       "    }\n",
       "\n",
       "    .dataframe tbody tr th {\n",
       "        vertical-align: top;\n",
       "    }\n",
       "\n",
       "    .dataframe thead th {\n",
       "        text-align: right;\n",
       "    }\n",
       "</style>\n",
       "<table border=\"1\" class=\"dataframe\">\n",
       "  <thead>\n",
       "    <tr style=\"text-align: right;\">\n",
       "      <th></th>\n",
       "      <th>Regular</th>\n",
       "      <th>Overtime</th>\n",
       "      <th>m1</th>\n",
       "      <th>m2</th>\n",
       "      <th>m3</th>\n",
       "      <th>m4</th>\n",
       "    </tr>\n",
       "  </thead>\n",
       "  <tbody>\n",
       "    <tr>\n",
       "      <th>Sailboat</th>\n",
       "      <td>145.0</td>\n",
       "      <td>25.0</td>\n",
       "      <td>0.0</td>\n",
       "      <td>0.0</td>\n",
       "      <td>0.0</td>\n",
       "      <td>0.0</td>\n",
       "    </tr>\n",
       "    <tr>\n",
       "      <th>Regular</th>\n",
       "      <td>0.0</td>\n",
       "      <td>0.0</td>\n",
       "      <td>40.0</td>\n",
       "      <td>40.0</td>\n",
       "      <td>40.0</td>\n",
       "      <td>25.0</td>\n",
       "    </tr>\n",
       "    <tr>\n",
       "      <th>Overtime</th>\n",
       "      <td>0.0</td>\n",
       "      <td>0.0</td>\n",
       "      <td>0.0</td>\n",
       "      <td>0.0</td>\n",
       "      <td>25.0</td>\n",
       "      <td>0.0</td>\n",
       "    </tr>\n",
       "    <tr>\n",
       "      <th>m0</th>\n",
       "      <td>0.0</td>\n",
       "      <td>0.0</td>\n",
       "      <td>30.0</td>\n",
       "      <td>0.0</td>\n",
       "      <td>0.0</td>\n",
       "      <td>0.0</td>\n",
       "    </tr>\n",
       "    <tr>\n",
       "      <th>m1</th>\n",
       "      <td>0.0</td>\n",
       "      <td>0.0</td>\n",
       "      <td>0.0</td>\n",
       "      <td>30.0</td>\n",
       "      <td>0.0</td>\n",
       "      <td>0.0</td>\n",
       "    </tr>\n",
       "    <tr>\n",
       "      <th>m2</th>\n",
       "      <td>0.0</td>\n",
       "      <td>0.0</td>\n",
       "      <td>0.0</td>\n",
       "      <td>0.0</td>\n",
       "      <td>10.0</td>\n",
       "      <td>0.0</td>\n",
       "    </tr>\n",
       "    <tr>\n",
       "      <th>m3</th>\n",
       "      <td>0.0</td>\n",
       "      <td>0.0</td>\n",
       "      <td>0.0</td>\n",
       "      <td>0.0</td>\n",
       "      <td>0.0</td>\n",
       "      <td>0.0</td>\n",
       "    </tr>\n",
       "  </tbody>\n",
       "</table>\n",
       "</div>"
      ],
      "text/plain": [
       "          Regular  Overtime    m1    m2    m3    m4\n",
       "Sailboat    145.0      25.0   0.0   0.0   0.0   0.0\n",
       "Regular       0.0       0.0  40.0  40.0  40.0  25.0\n",
       "Overtime      0.0       0.0   0.0   0.0  25.0   0.0\n",
       "m0            0.0       0.0  30.0   0.0   0.0   0.0\n",
       "m1            0.0       0.0   0.0  30.0   0.0   0.0\n",
       "m2            0.0       0.0   0.0   0.0  10.0   0.0\n",
       "m3            0.0       0.0   0.0   0.0   0.0   0.0"
      ]
     },
     "metadata": {},
     "output_type": "display_data"
    }
   ],
   "source": [
    "T1 = Set(m,'T1',domain=node,is_singleton=True,records=['m0']) #Only holds one element, throws out the last one every time there is a new one\n",
    "b[T1] = 30 #saying there are 30 boats to start now\n",
    "b[T].where[~T.first] = -Sum(months.where[T.ord-1==months.ord], demand[months])\n",
    "b['Sailboat'] = -Sum(T, b[T])\n",
    "\n",
    "mcf.solve(solver='cplex',solver_options={'lpmethod': 3, 'netfind': 2, 'preind': 0, 'names': 'no'},output=None)\n",
    "\n",
    "print(\"Objective Function Value:  \", round(mcf.objective_value, 4), \"\\n\\nf:\")\n",
    "display(x.pivot())"
   ]
  },
  {
   "cell_type": "markdown",
   "metadata": {},
   "source": [
    "# Do for random initial stock"
   ]
  },
  {
   "cell_type": "code",
   "execution_count": 32,
   "metadata": {
    "scrolled": true
   },
   "outputs": [
    {
     "name": "stdout",
     "output_type": "stream",
     "text": [
      "     iter       b-T1          cost\n",
      "0   iter1   6.839390  79809.062300\n",
      "1   iter2   1.861498  81949.555829\n",
      "2   iter3  12.413207  77412.320995\n",
      "3   iter4  12.977178  77169.813409\n",
      "4   iter5   8.761253  78982.661296\n",
      "5   iter6  11.469285  77818.207239\n",
      "6   iter7  16.841577  75508.121819\n",
      "7   iter8  14.243191  76625.427715\n",
      "8   iter9  12.830556  77232.860884\n",
      "9  iter10  12.750998  77267.071052\n"
     ]
    }
   ],
   "source": [
    "def mysample(size):\n",
    "    return rng.normal(loc=10.0, scale=4.0, size=size)\n",
    "\n",
    "rng = np.random.default_rng(seed=101)\n",
    "sample = mysample(10)\n",
    "result = pd.DataFrame(columns=['iter','b-T1','cost'])\n",
    "\n",
    "for cnt in range(len(sample)):\n",
    "    if sample[cnt] < 0:\n",
    "        raise Exception(\"Must have positive initial inventory\", b)\n",
    "    b[T1] = sample[cnt]\n",
    "    b[T].where[~T.first] = -Sum(months.where[T.ord-1==months.ord], demand[months])\n",
    "    b['Sailboat'] = -Sum(T, b[T])\n",
    "\n",
    "    mcf.solve(solver='cplex',solver_options={'lpmethod': 3, 'netfind': 2, 'preind': 0, 'names': 'no'},output=None)\n",
    "    if mcf.solve_status != SolveStatus.NormalCompletion:\n",
    "        raise GamspyException(\"bad data given\", mcf.solve_status)\n",
    "    if mcf.status == ModelStatus.OptimalGlobal:\n",
    "        result.loc[cnt] = ['iter'+str(cnt+1),sample[cnt],mcf.objective_value]\n",
    "    else:\n",
    "        result.loc[cnt] =  ['iter'+str(cnt+1),-1,0]\n",
    "\n",
    "print(result)"
   ]
  },
  {
   "cell_type": "code",
   "execution_count": 33,
   "metadata": {},
   "outputs": [
    {
     "data": {
      "application/vnd.plotly.v1+json": {
       "config": {
        "plotlyServerURL": "https://plot.ly"
       },
       "data": [
        {
         "hovertemplate": "b-T1=%{x}<br>cost=%{y}<extra></extra>",
         "legendgroup": "",
         "line": {
          "color": "#636efa",
          "dash": "solid"
         },
         "marker": {
          "symbol": "circle"
         },
         "mode": "lines+markers",
         "name": "",
         "orientation": "v",
         "showlegend": false,
         "type": "scatter",
         "x": [
          6.839390000147942,
          1.861498072672509,
          12.41320698769906,
          12.977178119519648,
          8.761252800534916,
          11.469285491782161,
          16.84157716591058,
          14.243191360263255,
          12.830556083224302,
          12.75099755402178
         ],
         "xaxis": "x",
         "y": [
          79809.06229993638,
          81949.55582875082,
          77412.3209952894,
          77169.81340860655,
          78982.66129576998,
          77818.20723853368,
          75508.12181865846,
          76625.4277150868,
          77232.86088421356,
          77267.07105177063
         ],
         "yaxis": "y"
        }
       ],
       "layout": {
        "legend": {
         "tracegroupgap": 0
        },
        "margin": {
         "t": 60
        },
        "template": {
         "data": {
          "bar": [
           {
            "error_x": {
             "color": "#2a3f5f"
            },
            "error_y": {
             "color": "#2a3f5f"
            },
            "marker": {
             "line": {
              "color": "#E5ECF6",
              "width": 0.5
             },
             "pattern": {
              "fillmode": "overlay",
              "size": 10,
              "solidity": 0.2
             }
            },
            "type": "bar"
           }
          ],
          "barpolar": [
           {
            "marker": {
             "line": {
              "color": "#E5ECF6",
              "width": 0.5
             },
             "pattern": {
              "fillmode": "overlay",
              "size": 10,
              "solidity": 0.2
             }
            },
            "type": "barpolar"
           }
          ],
          "carpet": [
           {
            "aaxis": {
             "endlinecolor": "#2a3f5f",
             "gridcolor": "white",
             "linecolor": "white",
             "minorgridcolor": "white",
             "startlinecolor": "#2a3f5f"
            },
            "baxis": {
             "endlinecolor": "#2a3f5f",
             "gridcolor": "white",
             "linecolor": "white",
             "minorgridcolor": "white",
             "startlinecolor": "#2a3f5f"
            },
            "type": "carpet"
           }
          ],
          "choropleth": [
           {
            "colorbar": {
             "outlinewidth": 0,
             "ticks": ""
            },
            "type": "choropleth"
           }
          ],
          "contour": [
           {
            "colorbar": {
             "outlinewidth": 0,
             "ticks": ""
            },
            "colorscale": [
             [
              0,
              "#0d0887"
             ],
             [
              0.1111111111111111,
              "#46039f"
             ],
             [
              0.2222222222222222,
              "#7201a8"
             ],
             [
              0.3333333333333333,
              "#9c179e"
             ],
             [
              0.4444444444444444,
              "#bd3786"
             ],
             [
              0.5555555555555556,
              "#d8576b"
             ],
             [
              0.6666666666666666,
              "#ed7953"
             ],
             [
              0.7777777777777778,
              "#fb9f3a"
             ],
             [
              0.8888888888888888,
              "#fdca26"
             ],
             [
              1,
              "#f0f921"
             ]
            ],
            "type": "contour"
           }
          ],
          "contourcarpet": [
           {
            "colorbar": {
             "outlinewidth": 0,
             "ticks": ""
            },
            "type": "contourcarpet"
           }
          ],
          "heatmap": [
           {
            "colorbar": {
             "outlinewidth": 0,
             "ticks": ""
            },
            "colorscale": [
             [
              0,
              "#0d0887"
             ],
             [
              0.1111111111111111,
              "#46039f"
             ],
             [
              0.2222222222222222,
              "#7201a8"
             ],
             [
              0.3333333333333333,
              "#9c179e"
             ],
             [
              0.4444444444444444,
              "#bd3786"
             ],
             [
              0.5555555555555556,
              "#d8576b"
             ],
             [
              0.6666666666666666,
              "#ed7953"
             ],
             [
              0.7777777777777778,
              "#fb9f3a"
             ],
             [
              0.8888888888888888,
              "#fdca26"
             ],
             [
              1,
              "#f0f921"
             ]
            ],
            "type": "heatmap"
           }
          ],
          "heatmapgl": [
           {
            "colorbar": {
             "outlinewidth": 0,
             "ticks": ""
            },
            "colorscale": [
             [
              0,
              "#0d0887"
             ],
             [
              0.1111111111111111,
              "#46039f"
             ],
             [
              0.2222222222222222,
              "#7201a8"
             ],
             [
              0.3333333333333333,
              "#9c179e"
             ],
             [
              0.4444444444444444,
              "#bd3786"
             ],
             [
              0.5555555555555556,
              "#d8576b"
             ],
             [
              0.6666666666666666,
              "#ed7953"
             ],
             [
              0.7777777777777778,
              "#fb9f3a"
             ],
             [
              0.8888888888888888,
              "#fdca26"
             ],
             [
              1,
              "#f0f921"
             ]
            ],
            "type": "heatmapgl"
           }
          ],
          "histogram": [
           {
            "marker": {
             "pattern": {
              "fillmode": "overlay",
              "size": 10,
              "solidity": 0.2
             }
            },
            "type": "histogram"
           }
          ],
          "histogram2d": [
           {
            "colorbar": {
             "outlinewidth": 0,
             "ticks": ""
            },
            "colorscale": [
             [
              0,
              "#0d0887"
             ],
             [
              0.1111111111111111,
              "#46039f"
             ],
             [
              0.2222222222222222,
              "#7201a8"
             ],
             [
              0.3333333333333333,
              "#9c179e"
             ],
             [
              0.4444444444444444,
              "#bd3786"
             ],
             [
              0.5555555555555556,
              "#d8576b"
             ],
             [
              0.6666666666666666,
              "#ed7953"
             ],
             [
              0.7777777777777778,
              "#fb9f3a"
             ],
             [
              0.8888888888888888,
              "#fdca26"
             ],
             [
              1,
              "#f0f921"
             ]
            ],
            "type": "histogram2d"
           }
          ],
          "histogram2dcontour": [
           {
            "colorbar": {
             "outlinewidth": 0,
             "ticks": ""
            },
            "colorscale": [
             [
              0,
              "#0d0887"
             ],
             [
              0.1111111111111111,
              "#46039f"
             ],
             [
              0.2222222222222222,
              "#7201a8"
             ],
             [
              0.3333333333333333,
              "#9c179e"
             ],
             [
              0.4444444444444444,
              "#bd3786"
             ],
             [
              0.5555555555555556,
              "#d8576b"
             ],
             [
              0.6666666666666666,
              "#ed7953"
             ],
             [
              0.7777777777777778,
              "#fb9f3a"
             ],
             [
              0.8888888888888888,
              "#fdca26"
             ],
             [
              1,
              "#f0f921"
             ]
            ],
            "type": "histogram2dcontour"
           }
          ],
          "mesh3d": [
           {
            "colorbar": {
             "outlinewidth": 0,
             "ticks": ""
            },
            "type": "mesh3d"
           }
          ],
          "parcoords": [
           {
            "line": {
             "colorbar": {
              "outlinewidth": 0,
              "ticks": ""
             }
            },
            "type": "parcoords"
           }
          ],
          "pie": [
           {
            "automargin": true,
            "type": "pie"
           }
          ],
          "scatter": [
           {
            "fillpattern": {
             "fillmode": "overlay",
             "size": 10,
             "solidity": 0.2
            },
            "type": "scatter"
           }
          ],
          "scatter3d": [
           {
            "line": {
             "colorbar": {
              "outlinewidth": 0,
              "ticks": ""
             }
            },
            "marker": {
             "colorbar": {
              "outlinewidth": 0,
              "ticks": ""
             }
            },
            "type": "scatter3d"
           }
          ],
          "scattercarpet": [
           {
            "marker": {
             "colorbar": {
              "outlinewidth": 0,
              "ticks": ""
             }
            },
            "type": "scattercarpet"
           }
          ],
          "scattergeo": [
           {
            "marker": {
             "colorbar": {
              "outlinewidth": 0,
              "ticks": ""
             }
            },
            "type": "scattergeo"
           }
          ],
          "scattergl": [
           {
            "marker": {
             "colorbar": {
              "outlinewidth": 0,
              "ticks": ""
             }
            },
            "type": "scattergl"
           }
          ],
          "scattermapbox": [
           {
            "marker": {
             "colorbar": {
              "outlinewidth": 0,
              "ticks": ""
             }
            },
            "type": "scattermapbox"
           }
          ],
          "scatterpolar": [
           {
            "marker": {
             "colorbar": {
              "outlinewidth": 0,
              "ticks": ""
             }
            },
            "type": "scatterpolar"
           }
          ],
          "scatterpolargl": [
           {
            "marker": {
             "colorbar": {
              "outlinewidth": 0,
              "ticks": ""
             }
            },
            "type": "scatterpolargl"
           }
          ],
          "scatterternary": [
           {
            "marker": {
             "colorbar": {
              "outlinewidth": 0,
              "ticks": ""
             }
            },
            "type": "scatterternary"
           }
          ],
          "surface": [
           {
            "colorbar": {
             "outlinewidth": 0,
             "ticks": ""
            },
            "colorscale": [
             [
              0,
              "#0d0887"
             ],
             [
              0.1111111111111111,
              "#46039f"
             ],
             [
              0.2222222222222222,
              "#7201a8"
             ],
             [
              0.3333333333333333,
              "#9c179e"
             ],
             [
              0.4444444444444444,
              "#bd3786"
             ],
             [
              0.5555555555555556,
              "#d8576b"
             ],
             [
              0.6666666666666666,
              "#ed7953"
             ],
             [
              0.7777777777777778,
              "#fb9f3a"
             ],
             [
              0.8888888888888888,
              "#fdca26"
             ],
             [
              1,
              "#f0f921"
             ]
            ],
            "type": "surface"
           }
          ],
          "table": [
           {
            "cells": {
             "fill": {
              "color": "#EBF0F8"
             },
             "line": {
              "color": "white"
             }
            },
            "header": {
             "fill": {
              "color": "#C8D4E3"
             },
             "line": {
              "color": "white"
             }
            },
            "type": "table"
           }
          ]
         },
         "layout": {
          "annotationdefaults": {
           "arrowcolor": "#2a3f5f",
           "arrowhead": 0,
           "arrowwidth": 1
          },
          "autotypenumbers": "strict",
          "coloraxis": {
           "colorbar": {
            "outlinewidth": 0,
            "ticks": ""
           }
          },
          "colorscale": {
           "diverging": [
            [
             0,
             "#8e0152"
            ],
            [
             0.1,
             "#c51b7d"
            ],
            [
             0.2,
             "#de77ae"
            ],
            [
             0.3,
             "#f1b6da"
            ],
            [
             0.4,
             "#fde0ef"
            ],
            [
             0.5,
             "#f7f7f7"
            ],
            [
             0.6,
             "#e6f5d0"
            ],
            [
             0.7,
             "#b8e186"
            ],
            [
             0.8,
             "#7fbc41"
            ],
            [
             0.9,
             "#4d9221"
            ],
            [
             1,
             "#276419"
            ]
           ],
           "sequential": [
            [
             0,
             "#0d0887"
            ],
            [
             0.1111111111111111,
             "#46039f"
            ],
            [
             0.2222222222222222,
             "#7201a8"
            ],
            [
             0.3333333333333333,
             "#9c179e"
            ],
            [
             0.4444444444444444,
             "#bd3786"
            ],
            [
             0.5555555555555556,
             "#d8576b"
            ],
            [
             0.6666666666666666,
             "#ed7953"
            ],
            [
             0.7777777777777778,
             "#fb9f3a"
            ],
            [
             0.8888888888888888,
             "#fdca26"
            ],
            [
             1,
             "#f0f921"
            ]
           ],
           "sequentialminus": [
            [
             0,
             "#0d0887"
            ],
            [
             0.1111111111111111,
             "#46039f"
            ],
            [
             0.2222222222222222,
             "#7201a8"
            ],
            [
             0.3333333333333333,
             "#9c179e"
            ],
            [
             0.4444444444444444,
             "#bd3786"
            ],
            [
             0.5555555555555556,
             "#d8576b"
            ],
            [
             0.6666666666666666,
             "#ed7953"
            ],
            [
             0.7777777777777778,
             "#fb9f3a"
            ],
            [
             0.8888888888888888,
             "#fdca26"
            ],
            [
             1,
             "#f0f921"
            ]
           ]
          },
          "colorway": [
           "#636efa",
           "#EF553B",
           "#00cc96",
           "#ab63fa",
           "#FFA15A",
           "#19d3f3",
           "#FF6692",
           "#B6E880",
           "#FF97FF",
           "#FECB52"
          ],
          "font": {
           "color": "#2a3f5f"
          },
          "geo": {
           "bgcolor": "white",
           "lakecolor": "white",
           "landcolor": "#E5ECF6",
           "showlakes": true,
           "showland": true,
           "subunitcolor": "white"
          },
          "hoverlabel": {
           "align": "left"
          },
          "hovermode": "closest",
          "mapbox": {
           "style": "light"
          },
          "paper_bgcolor": "white",
          "plot_bgcolor": "#E5ECF6",
          "polar": {
           "angularaxis": {
            "gridcolor": "white",
            "linecolor": "white",
            "ticks": ""
           },
           "bgcolor": "#E5ECF6",
           "radialaxis": {
            "gridcolor": "white",
            "linecolor": "white",
            "ticks": ""
           }
          },
          "scene": {
           "xaxis": {
            "backgroundcolor": "#E5ECF6",
            "gridcolor": "white",
            "gridwidth": 2,
            "linecolor": "white",
            "showbackground": true,
            "ticks": "",
            "zerolinecolor": "white"
           },
           "yaxis": {
            "backgroundcolor": "#E5ECF6",
            "gridcolor": "white",
            "gridwidth": 2,
            "linecolor": "white",
            "showbackground": true,
            "ticks": "",
            "zerolinecolor": "white"
           },
           "zaxis": {
            "backgroundcolor": "#E5ECF6",
            "gridcolor": "white",
            "gridwidth": 2,
            "linecolor": "white",
            "showbackground": true,
            "ticks": "",
            "zerolinecolor": "white"
           }
          },
          "shapedefaults": {
           "line": {
            "color": "#2a3f5f"
           }
          },
          "ternary": {
           "aaxis": {
            "gridcolor": "white",
            "linecolor": "white",
            "ticks": ""
           },
           "baxis": {
            "gridcolor": "white",
            "linecolor": "white",
            "ticks": ""
           },
           "bgcolor": "#E5ECF6",
           "caxis": {
            "gridcolor": "white",
            "linecolor": "white",
            "ticks": ""
           }
          },
          "title": {
           "x": 0.05
          },
          "xaxis": {
           "automargin": true,
           "gridcolor": "white",
           "linecolor": "white",
           "ticks": "",
           "title": {
            "standoff": 15
           },
           "zerolinecolor": "white",
           "zerolinewidth": 2
          },
          "yaxis": {
           "automargin": true,
           "gridcolor": "white",
           "linecolor": "white",
           "ticks": "",
           "title": {
            "standoff": 15
           },
           "zerolinecolor": "white",
           "zerolinewidth": 2
          }
         }
        },
        "xaxis": {
         "anchor": "y",
         "domain": [
          0,
          1
         ],
         "title": {
          "text": "b-T1"
         }
        },
        "yaxis": {
         "anchor": "x",
         "domain": [
          0,
          1
         ],
         "title": {
          "text": "cost"
         }
        }
       }
      }
     },
     "metadata": {},
     "output_type": "display_data"
    }
   ],
   "source": [
    "import plotly.express as px\n",
    "\n",
    "fig = px.line(result,x='b-T1',y='cost',markers=True)\n",
    "fig.show()"
   ]
  },
  {
   "cell_type": "code",
   "execution_count": null,
   "metadata": {},
   "outputs": [],
   "source": []
  }
 ],
 "metadata": {
  "kernelspec": {
   "display_name": "Python 3 (ipykernel)",
   "language": "python",
   "name": "python3"
  },
  "language_info": {
   "codemirror_mode": {
    "name": "ipython",
    "version": 3
   },
   "file_extension": ".py",
   "mimetype": "text/x-python",
   "name": "python",
   "nbconvert_exporter": "python",
   "pygments_lexer": "ipython3",
   "version": "3.11.4"
  }
 },
 "nbformat": 4,
 "nbformat_minor": 4
}
